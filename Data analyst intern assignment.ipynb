{
 "cells": [
  {
   "cell_type": "code",
   "execution_count": 2,
   "id": "6d01f774-d771-41fe-9b16-4547f9964668",
   "metadata": {},
   "outputs": [
    {
     "data": {
      "text/plain": [
       "['UserDetails.csv', 'CookingSessions.csv', 'OrderDetails.csv']"
      ]
     },
     "execution_count": 2,
     "metadata": {},
     "output_type": "execute_result"
    }
   ],
   "source": [
    "import pandas as pd\n",
    "\n",
    "# Load the uploaded Excel file to examine its structure and contents\n",
    "file_path = 'Data Analyst Intern Assignment - Excel.xlsx'\n",
    "excel_data = pd.ExcelFile(file_path)\n",
    "\n",
    "# Display sheet names to understand the structure of the file\n",
    "excel_data.sheet_names"
   ]
  },
  {
   "cell_type": "code",
   "execution_count": 3,
   "id": "a88df011-7647-48c2-bc39-4e5974deafdb",
   "metadata": {},
   "outputs": [
    {
     "data": {
      "text/plain": [
       "(  User ID      User Name  Age       Location Registration Date         Phone  \\\n",
       " 0    U001  Alice Johnson   28       New York        2023-01-15  123-456-7890   \n",
       " 1    U002      Bob Smith   35    Los Angeles        2023-02-20  987-654-3210   \n",
       " 2    U003    Charlie Lee   42        Chicago        2023-03-10  555-123-4567   \n",
       " 3    U004    David Brown   27  San Francisco        2023-04-05  444-333-2222   \n",
       " 4    U005     Emma White   30        Seattle        2023-05-22  777-888-9999   \n",
       " \n",
       "                Email Favorite Meal  Total Orders  \n",
       " 0    alice@email.com        Dinner            12  \n",
       " 1      bob@email.com         Lunch             8  \n",
       " 2  charlie@email.com     Breakfast            15  \n",
       " 3    david@email.com        Dinner            10  \n",
       " 4     emma@email.com         Lunch             9  ,\n",
       "   Session ID User ID        Dish Name  Meal Type       Session Start  \\\n",
       " 0       S001    U001        Spaghetti     Dinner 2024-12-01 19:00:00   \n",
       " 1       S002    U002     Caesar Salad      Lunch 2024-12-01 12:00:00   \n",
       " 2       S003    U003  Grilled Chicken     Dinner 2024-12-02 19:30:00   \n",
       " 3       S004    U001         Pancakes  Breakfast 2024-12-02 07:30:00   \n",
       " 4       S005    U004     Caesar Salad      Lunch 2024-12-03 13:00:00   \n",
       " \n",
       "           Session End  Duration (mins)  Session Rating  \n",
       " 0 2024-12-01 19:30:00               30             4.5  \n",
       " 1 2024-12-01 12:20:00               20             4.0  \n",
       " 2 2024-12-02 20:10:00               40             4.8  \n",
       " 3 2024-12-02 08:00:00               30             4.2  \n",
       " 4 2024-12-03 13:15:00               15             4.7  ,\n",
       "    Order ID User ID Order Date  Meal Type        Dish Name Order Status  \\\n",
       " 0      1001    U001 2024-12-01     Dinner        Spaghetti    Completed   \n",
       " 1      1002    U002 2024-12-01      Lunch     Caesar Salad    Completed   \n",
       " 2      1003    U003 2024-12-02     Dinner  Grilled Chicken     Canceled   \n",
       " 3      1004    U001 2024-12-02  Breakfast         Pancakes    Completed   \n",
       " 4      1005    U004 2024-12-03      Lunch     Caesar Salad    Completed   \n",
       " \n",
       "    Amount (USD) Time of Day  Rating Session ID  \n",
       " 0          15.0       Night     5.0       S001  \n",
       " 1          10.0         Day     4.0       S002  \n",
       " 2          12.5       Night     NaN       S003  \n",
       " 3           8.0     Morning     4.0       S004  \n",
       " 4           9.0         Day     4.0       S005  )"
      ]
     },
     "execution_count": 3,
     "metadata": {},
     "output_type": "execute_result"
    }
   ],
   "source": [
    "# Load each sheet into a DataFrame\n",
    "user_details = pd.read_excel(file_path, sheet_name='UserDetails.csv')\n",
    "cooking_sessions = pd.read_excel(file_path, sheet_name='CookingSessions.csv')\n",
    "order_details = pd.read_excel(file_path, sheet_name='OrderDetails.csv')\n",
    "\n",
    "# Display the first few rows of each dataset to understand their structure\n",
    "user_details.head(), cooking_sessions.head(), order_details.head()"
   ]
  },
  {
   "cell_type": "code",
   "execution_count": 20,
   "id": "fa1aefc6-4399-4725-a858-a175a8e3a43e",
   "metadata": {},
   "outputs": [
    {
     "name": "stdout",
     "output_type": "stream",
     "text": [
      "<class 'pandas.core.frame.DataFrame'>\n",
      "RangeIndex: 10 entries, 0 to 9\n",
      "Data columns (total 9 columns):\n",
      " #   Column             Non-Null Count  Dtype         \n",
      "---  ------             --------------  -----         \n",
      " 0   User ID            10 non-null     object        \n",
      " 1   User Name          10 non-null     object        \n",
      " 2   Age                10 non-null     int64         \n",
      " 3   Location           10 non-null     object        \n",
      " 4   Registration Date  10 non-null     datetime64[ns]\n",
      " 5   Phone              10 non-null     object        \n",
      " 6   Email              10 non-null     object        \n",
      " 7   Favorite Meal      10 non-null     object        \n",
      " 8   Total Orders       10 non-null     int64         \n",
      "dtypes: datetime64[ns](1), int64(2), object(6)\n",
      "memory usage: 852.0+ bytes\n",
      "<class 'pandas.core.frame.DataFrame'>\n",
      "RangeIndex: 16 entries, 0 to 15\n",
      "Data columns (total 8 columns):\n",
      " #   Column           Non-Null Count  Dtype         \n",
      "---  ------           --------------  -----         \n",
      " 0   Session ID       16 non-null     object        \n",
      " 1   User ID          16 non-null     object        \n",
      " 2   Dish Name        16 non-null     object        \n",
      " 3   Meal Type        16 non-null     object        \n",
      " 4   Session Start    16 non-null     datetime64[ns]\n",
      " 5   Session End      16 non-null     datetime64[ns]\n",
      " 6   Duration (mins)  16 non-null     int64         \n",
      " 7   Session Rating   16 non-null     float64       \n",
      "dtypes: datetime64[ns](2), float64(1), int64(1), object(4)\n",
      "memory usage: 1.1+ KB\n",
      "<class 'pandas.core.frame.DataFrame'>\n",
      "RangeIndex: 16 entries, 0 to 15\n",
      "Data columns (total 10 columns):\n",
      " #   Column        Non-Null Count  Dtype         \n",
      "---  ------        --------------  -----         \n",
      " 0   Order ID      16 non-null     int64         \n",
      " 1   User ID       16 non-null     object        \n",
      " 2   Order Date    16 non-null     datetime64[ns]\n",
      " 3   Meal Type     16 non-null     object        \n",
      " 4   Dish Name     16 non-null     object        \n",
      " 5   Order Status  16 non-null     object        \n",
      " 6   Amount (USD)  16 non-null     float64       \n",
      " 7   Time of Day   16 non-null     object        \n",
      " 8   Rating        16 non-null     float64       \n",
      " 9   Session ID    16 non-null     object        \n",
      "dtypes: datetime64[ns](1), float64(2), int64(1), object(6)\n",
      "memory usage: 1.4+ KB\n"
     ]
    }
   ],
   "source": [
    "# Check for missing values and data types in each dataset\n",
    "user_details_info = user_details.info(), user_details.isnull().sum()\n",
    "cooking_sessions_info = cooking_sessions.info(), cooking_sessions.isnull().sum()\n",
    "order_details_info = order_details.info(), order_details.isnull().sum()"
   ]
  },
  {
   "cell_type": "code",
   "execution_count": 6,
   "id": "98f8999a-4bb6-4b6c-b978-d69008e40687",
   "metadata": {},
   "outputs": [
    {
     "data": {
      "text/plain": [
       "((None,\n",
       "  User ID              0\n",
       "  User Name            0\n",
       "  Age                  0\n",
       "  Location             0\n",
       "  Registration Date    0\n",
       "  Phone                0\n",
       "  Email                0\n",
       "  Favorite Meal        0\n",
       "  Total Orders         0\n",
       "  dtype: int64),\n",
       " (None,\n",
       "  Session ID         0\n",
       "  User ID            0\n",
       "  Dish Name          0\n",
       "  Meal Type          0\n",
       "  Session Start      0\n",
       "  Session End        0\n",
       "  Duration (mins)    0\n",
       "  Session Rating     0\n",
       "  dtype: int64),\n",
       " (None,\n",
       "  Order ID        0\n",
       "  User ID         0\n",
       "  Order Date      0\n",
       "  Meal Type       0\n",
       "  Dish Name       0\n",
       "  Order Status    0\n",
       "  Amount (USD)    0\n",
       "  Time of Day     0\n",
       "  Rating          2\n",
       "  Session ID      0\n",
       "  dtype: int64))"
      ]
     },
     "execution_count": 6,
     "metadata": {},
     "output_type": "execute_result"
    }
   ],
   "source": [
    "user_details_info, cooking_sessions_info, order_details_info"
   ]
  },
  {
   "cell_type": "code",
   "execution_count": 9,
   "id": "3d329843-d7df-4056-8d74-75de3cd3a25d",
   "metadata": {},
   "outputs": [
    {
     "name": "stderr",
     "output_type": "stream",
     "text": [
      "C:\\Users\\HP\\AppData\\Local\\Temp\\ipykernel_8440\\3061382970.py:4: FutureWarning: A value is trying to be set on a copy of a DataFrame or Series through chained assignment using an inplace method.\n",
      "The behavior will change in pandas 3.0. This inplace method will never work because the intermediate object on which we are setting values always behaves as a copy.\n",
      "\n",
      "For example, when doing 'df[col].method(value, inplace=True)', try using 'df.method({col: value}, inplace=True)' or df[col] = df[col].method(value) instead, to perform the operation inplace on the original object.\n",
      "\n",
      "\n",
      "  order_details['Rating'].fillna(mean_rating, inplace=True)\n"
     ]
    },
    {
     "data": {
      "text/plain": [
       "Order ID        0\n",
       "User ID         0\n",
       "Order Date      0\n",
       "Meal Type       0\n",
       "Dish Name       0\n",
       "Order Status    0\n",
       "Amount (USD)    0\n",
       "Time of Day     0\n",
       "Rating          0\n",
       "Session ID      0\n",
       "dtype: int64"
      ]
     },
     "execution_count": 9,
     "metadata": {},
     "output_type": "execute_result"
    }
   ],
   "source": [
    "# Handle missing values in the 'Rating' column of OrderDetails\n",
    "# Option: Fill missing ratings with the mean rating for simplicity\n",
    "mean_rating = order_details['Rating'].mean()\n",
    "order_details['Rating'].fillna(mean_rating, inplace=True)\n",
    "\n",
    "# Verify that there are no more missing values\n",
    "order_details.isnull().sum()"
   ]
  },
  {
   "cell_type": "code",
   "execution_count": 12,
   "id": "fb795e2e-d884-452f-bfce-6f480abcc059",
   "metadata": {},
   "outputs": [
    {
     "name": "stderr",
     "output_type": "stream",
     "text": [
      "C:\\Users\\HP\\AppData\\Local\\Temp\\ipykernel_8440\\645358272.py:2: FutureWarning: A value is trying to be set on a copy of a DataFrame or Series through chained assignment using an inplace method.\n",
      "The behavior will change in pandas 3.0. This inplace method will never work because the intermediate object on which we are setting values always behaves as a copy.\n",
      "\n",
      "For example, when doing 'df[col].method(value, inplace=True)', try using 'df.method({col: value}, inplace=True)' or df[col] = df[col].method(value) instead, to perform the operation inplace on the original object.\n",
      "\n",
      "\n",
      "  order_details['Rating'].fillna(mean_rating, inplace=True)\n"
     ]
    },
    {
     "data": {
      "text/plain": [
       "4.285714285714286"
      ]
     },
     "execution_count": 12,
     "metadata": {},
     "output_type": "execute_result"
    }
   ],
   "source": [
    "mean_rating = order_details['Rating'].mean()\n",
    "order_details['Rating'].fillna(mean_rating, inplace=True)\n",
    "mean_rating"
   ]
  },
  {
   "cell_type": "code",
   "execution_count": 13,
   "id": "d03e172b-c8e4-4b30-b8ac-fe4c6287bf0f",
   "metadata": {},
   "outputs": [],
   "source": [
    "# Step 2: Check for duplicates in all datasets and remove if found\n",
    "user_details = user_details.drop_duplicates()\n",
    "cooking_sessions = cooking_sessions.drop_duplicates()\n",
    "order_details = order_details.drop_duplicates()"
   ]
  },
  {
   "cell_type": "code",
   "execution_count": 15,
   "id": "8f5c2100-5a07-4036-a88c-69004584858f",
   "metadata": {},
   "outputs": [
    {
     "data": {
      "text/plain": [
       "(  User ID      User Name  Age       Location Registration Date         Phone  \\\n",
       " 0    U001  Alice Johnson   28       New York        2023-01-15  123-456-7890   \n",
       " 1    U002      Bob Smith   35    Los Angeles        2023-02-20  987-654-3210   \n",
       " 2    U003    Charlie Lee   42        Chicago        2023-03-10  555-123-4567   \n",
       " 3    U004    David Brown   27  San Francisco        2023-04-05  444-333-2222   \n",
       " 4    U005     Emma White   30        Seattle        2023-05-22  777-888-9999   \n",
       " \n",
       "                Email Favorite Meal  Total Orders  \n",
       " 0    alice@email.com        Dinner            12  \n",
       " 1      bob@email.com         Lunch             8  \n",
       " 2  charlie@email.com     Breakfast            15  \n",
       " 3    david@email.com        Dinner            10  \n",
       " 4     emma@email.com         Lunch             9  ,\n",
       "   Session ID User ID        Dish Name  Meal Type       Session Start  \\\n",
       " 0       S001    U001        Spaghetti     Dinner 2024-12-01 19:00:00   \n",
       " 1       S002    U002     Caesar Salad      Lunch 2024-12-01 12:00:00   \n",
       " 2       S003    U003  Grilled Chicken     Dinner 2024-12-02 19:30:00   \n",
       " 3       S004    U001         Pancakes  Breakfast 2024-12-02 07:30:00   \n",
       " 4       S005    U004     Caesar Salad      Lunch 2024-12-03 13:00:00   \n",
       " \n",
       "           Session End  Duration (mins)  Session Rating  \n",
       " 0 2024-12-01 19:30:00               30             4.5  \n",
       " 1 2024-12-01 12:20:00               20             4.0  \n",
       " 2 2024-12-02 20:10:00               40             4.8  \n",
       " 3 2024-12-02 08:00:00               30             4.2  \n",
       " 4 2024-12-03 13:15:00               15             4.7  ,\n",
       "    Order ID User ID Order Date  Meal Type        Dish Name Order Status  \\\n",
       " 0      1001    U001 2024-12-01     Dinner        Spaghetti    Completed   \n",
       " 1      1002    U002 2024-12-01      Lunch     Caesar Salad    Completed   \n",
       " 2      1003    U003 2024-12-02     Dinner  Grilled Chicken     Canceled   \n",
       " 3      1004    U001 2024-12-02  Breakfast         Pancakes    Completed   \n",
       " 4      1005    U004 2024-12-03      Lunch     Caesar Salad    Completed   \n",
       " \n",
       "    Amount (USD) Time of Day    Rating Session ID  \n",
       " 0          15.0       Night  5.000000       S001  \n",
       " 1          10.0         Day  4.000000       S002  \n",
       " 2          12.5       Night  4.285714       S003  \n",
       " 3           8.0     Morning  4.000000       S004  \n",
       " 4           9.0         Day  4.000000       S005  )"
      ]
     },
     "execution_count": 15,
     "metadata": {},
     "output_type": "execute_result"
    }
   ],
   "source": [
    "user_details.head(5),cooking_sessions.head(5),order_details.head(5)"
   ]
  },
  {
   "cell_type": "code",
   "execution_count": 16,
   "id": "b333d232-00df-4c60-a038-8a07911db09c",
   "metadata": {},
   "outputs": [],
   "source": [
    "# Step 3: Standardize formats\n",
    "# Ensure date columns are in datetime format\n",
    "user_details['Registration Date'] = pd.to_datetime(user_details['Registration Date'])\n",
    "cooking_sessions['Session Start'] = pd.to_datetime(cooking_sessions['Session Start'])\n",
    "cooking_sessions['Session End'] = pd.to_datetime(cooking_sessions['Session End'])\n",
    "order_details['Order Date'] = pd.to_datetime(order_details['Order Date'])"
   ]
  },
  {
   "cell_type": "code",
   "execution_count": 18,
   "id": "f4d4db43-4115-4b4d-b16f-a29f0f990ab1",
   "metadata": {},
   "outputs": [],
   "source": [
    "# Standardize text columns to lowercase\n",
    "user_details['Location'] = user_details['Location'].str.lower()\n",
    "cooking_sessions['Dish Name'] = cooking_sessions['Dish Name'].str.lower()\n",
    "order_details['Dish Name'] = order_details['Dish Name'].str.lower()\n",
    "order_details['Meal Type'] = order_details['Meal Type'].str.lower()"
   ]
  },
  {
   "cell_type": "code",
   "execution_count": 19,
   "id": "eaf495f7-3d72-4c6f-9ff1-4af2ef2a3d46",
   "metadata": {},
   "outputs": [
    {
     "data": {
      "text/plain": [
       "(  User ID      User Name  Age       Location Registration Date         Phone  \\\n",
       " 0    U001  Alice Johnson   28       new york        2023-01-15  123-456-7890   \n",
       " 1    U002      Bob Smith   35    los angeles        2023-02-20  987-654-3210   \n",
       " 2    U003    Charlie Lee   42        chicago        2023-03-10  555-123-4567   \n",
       " 3    U004    David Brown   27  san francisco        2023-04-05  444-333-2222   \n",
       " 4    U005     Emma White   30        seattle        2023-05-22  777-888-9999   \n",
       " \n",
       "                Email Favorite Meal  Total Orders  \n",
       " 0    alice@email.com        Dinner            12  \n",
       " 1      bob@email.com         Lunch             8  \n",
       " 2  charlie@email.com     Breakfast            15  \n",
       " 3    david@email.com        Dinner            10  \n",
       " 4     emma@email.com         Lunch             9  ,\n",
       "   Session ID User ID        Dish Name  Meal Type       Session Start  \\\n",
       " 0       S001    U001        spaghetti     Dinner 2024-12-01 19:00:00   \n",
       " 1       S002    U002     caesar salad      Lunch 2024-12-01 12:00:00   \n",
       " 2       S003    U003  grilled chicken     Dinner 2024-12-02 19:30:00   \n",
       " 3       S004    U001         pancakes  Breakfast 2024-12-02 07:30:00   \n",
       " 4       S005    U004     caesar salad      Lunch 2024-12-03 13:00:00   \n",
       " \n",
       "           Session End  Duration (mins)  Session Rating  \n",
       " 0 2024-12-01 19:30:00               30             4.5  \n",
       " 1 2024-12-01 12:20:00               20             4.0  \n",
       " 2 2024-12-02 20:10:00               40             4.8  \n",
       " 3 2024-12-02 08:00:00               30             4.2  \n",
       " 4 2024-12-03 13:15:00               15             4.7  ,\n",
       "    Order ID User ID Order Date  Meal Type        Dish Name Order Status  \\\n",
       " 0      1001    U001 2024-12-01     dinner        spaghetti    Completed   \n",
       " 1      1002    U002 2024-12-01      lunch     caesar salad    Completed   \n",
       " 2      1003    U003 2024-12-02     dinner  grilled chicken     Canceled   \n",
       " 3      1004    U001 2024-12-02  breakfast         pancakes    Completed   \n",
       " 4      1005    U004 2024-12-03      lunch     caesar salad    Completed   \n",
       " \n",
       "    Amount (USD) Time of Day    Rating Session ID  \n",
       " 0          15.0       Night  5.000000       S001  \n",
       " 1          10.0         Day  4.000000       S002  \n",
       " 2          12.5       Night  4.285714       S003  \n",
       " 3           8.0     Morning  4.000000       S004  \n",
       " 4           9.0         Day  4.000000       S005  )"
      ]
     },
     "execution_count": 19,
     "metadata": {},
     "output_type": "execute_result"
    }
   ],
   "source": [
    "# Verify cleaning steps\n",
    "user_details.head(), cooking_sessions.head(), order_details.head()"
   ]
  },
  {
   "cell_type": "code",
   "execution_count": 23,
   "id": "36269ea1-1c18-46e0-b094-da21319e8c8d",
   "metadata": {},
   "outputs": [
    {
     "data": {
      "text/html": [
       "<div>\n",
       "<style scoped>\n",
       "    .dataframe tbody tr th:only-of-type {\n",
       "        vertical-align: middle;\n",
       "    }\n",
       "\n",
       "    .dataframe tbody tr th {\n",
       "        vertical-align: top;\n",
       "    }\n",
       "\n",
       "    .dataframe thead th {\n",
       "        text-align: right;\n",
       "    }\n",
       "</style>\n",
       "<table border=\"1\" class=\"dataframe\">\n",
       "  <thead>\n",
       "    <tr style=\"text-align: right;\">\n",
       "      <th></th>\n",
       "      <th>Session ID</th>\n",
       "      <th>User ID</th>\n",
       "      <th>Dish Name</th>\n",
       "      <th>Meal Type</th>\n",
       "      <th>Session Start</th>\n",
       "      <th>Session End</th>\n",
       "      <th>Duration (mins)</th>\n",
       "      <th>Session Rating</th>\n",
       "      <th>User Name</th>\n",
       "      <th>Age</th>\n",
       "      <th>Location</th>\n",
       "      <th>Registration Date</th>\n",
       "      <th>Phone</th>\n",
       "      <th>Email</th>\n",
       "      <th>Favorite Meal</th>\n",
       "      <th>Total Orders</th>\n",
       "    </tr>\n",
       "  </thead>\n",
       "  <tbody>\n",
       "    <tr>\n",
       "      <th>0</th>\n",
       "      <td>S001</td>\n",
       "      <td>U001</td>\n",
       "      <td>spaghetti</td>\n",
       "      <td>Dinner</td>\n",
       "      <td>2024-12-01 19:00:00</td>\n",
       "      <td>2024-12-01 19:30:00</td>\n",
       "      <td>30</td>\n",
       "      <td>4.5</td>\n",
       "      <td>Alice Johnson</td>\n",
       "      <td>28</td>\n",
       "      <td>new york</td>\n",
       "      <td>2023-01-15</td>\n",
       "      <td>123-456-7890</td>\n",
       "      <td>alice@email.com</td>\n",
       "      <td>Dinner</td>\n",
       "      <td>12</td>\n",
       "    </tr>\n",
       "    <tr>\n",
       "      <th>1</th>\n",
       "      <td>S002</td>\n",
       "      <td>U002</td>\n",
       "      <td>caesar salad</td>\n",
       "      <td>Lunch</td>\n",
       "      <td>2024-12-01 12:00:00</td>\n",
       "      <td>2024-12-01 12:20:00</td>\n",
       "      <td>20</td>\n",
       "      <td>4.0</td>\n",
       "      <td>Bob Smith</td>\n",
       "      <td>35</td>\n",
       "      <td>los angeles</td>\n",
       "      <td>2023-02-20</td>\n",
       "      <td>987-654-3210</td>\n",
       "      <td>bob@email.com</td>\n",
       "      <td>Lunch</td>\n",
       "      <td>8</td>\n",
       "    </tr>\n",
       "    <tr>\n",
       "      <th>2</th>\n",
       "      <td>S003</td>\n",
       "      <td>U003</td>\n",
       "      <td>grilled chicken</td>\n",
       "      <td>Dinner</td>\n",
       "      <td>2024-12-02 19:30:00</td>\n",
       "      <td>2024-12-02 20:10:00</td>\n",
       "      <td>40</td>\n",
       "      <td>4.8</td>\n",
       "      <td>Charlie Lee</td>\n",
       "      <td>42</td>\n",
       "      <td>chicago</td>\n",
       "      <td>2023-03-10</td>\n",
       "      <td>555-123-4567</td>\n",
       "      <td>charlie@email.com</td>\n",
       "      <td>Breakfast</td>\n",
       "      <td>15</td>\n",
       "    </tr>\n",
       "    <tr>\n",
       "      <th>3</th>\n",
       "      <td>S004</td>\n",
       "      <td>U001</td>\n",
       "      <td>pancakes</td>\n",
       "      <td>Breakfast</td>\n",
       "      <td>2024-12-02 07:30:00</td>\n",
       "      <td>2024-12-02 08:00:00</td>\n",
       "      <td>30</td>\n",
       "      <td>4.2</td>\n",
       "      <td>Alice Johnson</td>\n",
       "      <td>28</td>\n",
       "      <td>new york</td>\n",
       "      <td>2023-01-15</td>\n",
       "      <td>123-456-7890</td>\n",
       "      <td>alice@email.com</td>\n",
       "      <td>Dinner</td>\n",
       "      <td>12</td>\n",
       "    </tr>\n",
       "    <tr>\n",
       "      <th>4</th>\n",
       "      <td>S005</td>\n",
       "      <td>U004</td>\n",
       "      <td>caesar salad</td>\n",
       "      <td>Lunch</td>\n",
       "      <td>2024-12-03 13:00:00</td>\n",
       "      <td>2024-12-03 13:15:00</td>\n",
       "      <td>15</td>\n",
       "      <td>4.7</td>\n",
       "      <td>David Brown</td>\n",
       "      <td>27</td>\n",
       "      <td>san francisco</td>\n",
       "      <td>2023-04-05</td>\n",
       "      <td>444-333-2222</td>\n",
       "      <td>david@email.com</td>\n",
       "      <td>Dinner</td>\n",
       "      <td>10</td>\n",
       "    </tr>\n",
       "  </tbody>\n",
       "</table>\n",
       "</div>"
      ],
      "text/plain": [
       "  Session ID User ID        Dish Name  Meal Type       Session Start  \\\n",
       "0       S001    U001        spaghetti     Dinner 2024-12-01 19:00:00   \n",
       "1       S002    U002     caesar salad      Lunch 2024-12-01 12:00:00   \n",
       "2       S003    U003  grilled chicken     Dinner 2024-12-02 19:30:00   \n",
       "3       S004    U001         pancakes  Breakfast 2024-12-02 07:30:00   \n",
       "4       S005    U004     caesar salad      Lunch 2024-12-03 13:00:00   \n",
       "\n",
       "          Session End  Duration (mins)  Session Rating      User Name  Age  \\\n",
       "0 2024-12-01 19:30:00               30             4.5  Alice Johnson   28   \n",
       "1 2024-12-01 12:20:00               20             4.0      Bob Smith   35   \n",
       "2 2024-12-02 20:10:00               40             4.8    Charlie Lee   42   \n",
       "3 2024-12-02 08:00:00               30             4.2  Alice Johnson   28   \n",
       "4 2024-12-03 13:15:00               15             4.7    David Brown   27   \n",
       "\n",
       "        Location Registration Date         Phone              Email  \\\n",
       "0       new york        2023-01-15  123-456-7890    alice@email.com   \n",
       "1    los angeles        2023-02-20  987-654-3210      bob@email.com   \n",
       "2        chicago        2023-03-10  555-123-4567  charlie@email.com   \n",
       "3       new york        2023-01-15  123-456-7890    alice@email.com   \n",
       "4  san francisco        2023-04-05  444-333-2222    david@email.com   \n",
       "\n",
       "  Favorite Meal  Total Orders  \n",
       "0        Dinner            12  \n",
       "1         Lunch             8  \n",
       "2     Breakfast            15  \n",
       "3        Dinner            12  \n",
       "4        Dinner            10  "
      ]
     },
     "execution_count": 23,
     "metadata": {},
     "output_type": "execute_result"
    }
   ],
   "source": [
    "# Step 4: Merge datasets\n",
    "# Merge UserDetails and CookingSessions on 'User ID'\n",
    "merged_data_1 = pd.merge(cooking_sessions, user_details, on='User ID', how='inner')\n",
    "merged_data_1.head(5)"
   ]
  },
  {
   "cell_type": "code",
   "execution_count": 25,
   "id": "59b10f2c-bff8-434e-87ff-6d67f95d9146",
   "metadata": {},
   "outputs": [
    {
     "data": {
      "text/html": [
       "<div>\n",
       "<style scoped>\n",
       "    .dataframe tbody tr th:only-of-type {\n",
       "        vertical-align: middle;\n",
       "    }\n",
       "\n",
       "    .dataframe tbody tr th {\n",
       "        vertical-align: top;\n",
       "    }\n",
       "\n",
       "    .dataframe thead th {\n",
       "        text-align: right;\n",
       "    }\n",
       "</style>\n",
       "<table border=\"1\" class=\"dataframe\">\n",
       "  <thead>\n",
       "    <tr style=\"text-align: right;\">\n",
       "      <th></th>\n",
       "      <th>Session ID</th>\n",
       "      <th>User ID_x</th>\n",
       "      <th>Dish Name_x</th>\n",
       "      <th>Meal Type_x</th>\n",
       "      <th>Session Start</th>\n",
       "      <th>Session End</th>\n",
       "      <th>Duration (mins)</th>\n",
       "      <th>Session Rating</th>\n",
       "      <th>User Name</th>\n",
       "      <th>Age</th>\n",
       "      <th>...</th>\n",
       "      <th>Total Orders</th>\n",
       "      <th>Order ID</th>\n",
       "      <th>User ID_y</th>\n",
       "      <th>Order Date</th>\n",
       "      <th>Meal Type_y</th>\n",
       "      <th>Dish Name_y</th>\n",
       "      <th>Order Status</th>\n",
       "      <th>Amount (USD)</th>\n",
       "      <th>Time of Day</th>\n",
       "      <th>Rating</th>\n",
       "    </tr>\n",
       "  </thead>\n",
       "  <tbody>\n",
       "    <tr>\n",
       "      <th>0</th>\n",
       "      <td>S001</td>\n",
       "      <td>U001</td>\n",
       "      <td>spaghetti</td>\n",
       "      <td>Dinner</td>\n",
       "      <td>2024-12-01 19:00:00</td>\n",
       "      <td>2024-12-01 19:30:00</td>\n",
       "      <td>30</td>\n",
       "      <td>4.5</td>\n",
       "      <td>Alice Johnson</td>\n",
       "      <td>28</td>\n",
       "      <td>...</td>\n",
       "      <td>12</td>\n",
       "      <td>1001</td>\n",
       "      <td>U001</td>\n",
       "      <td>2024-12-01</td>\n",
       "      <td>dinner</td>\n",
       "      <td>spaghetti</td>\n",
       "      <td>Completed</td>\n",
       "      <td>15.0</td>\n",
       "      <td>Night</td>\n",
       "      <td>5.000000</td>\n",
       "    </tr>\n",
       "    <tr>\n",
       "      <th>1</th>\n",
       "      <td>S002</td>\n",
       "      <td>U002</td>\n",
       "      <td>caesar salad</td>\n",
       "      <td>Lunch</td>\n",
       "      <td>2024-12-01 12:00:00</td>\n",
       "      <td>2024-12-01 12:20:00</td>\n",
       "      <td>20</td>\n",
       "      <td>4.0</td>\n",
       "      <td>Bob Smith</td>\n",
       "      <td>35</td>\n",
       "      <td>...</td>\n",
       "      <td>8</td>\n",
       "      <td>1002</td>\n",
       "      <td>U002</td>\n",
       "      <td>2024-12-01</td>\n",
       "      <td>lunch</td>\n",
       "      <td>caesar salad</td>\n",
       "      <td>Completed</td>\n",
       "      <td>10.0</td>\n",
       "      <td>Day</td>\n",
       "      <td>4.000000</td>\n",
       "    </tr>\n",
       "    <tr>\n",
       "      <th>2</th>\n",
       "      <td>S003</td>\n",
       "      <td>U003</td>\n",
       "      <td>grilled chicken</td>\n",
       "      <td>Dinner</td>\n",
       "      <td>2024-12-02 19:30:00</td>\n",
       "      <td>2024-12-02 20:10:00</td>\n",
       "      <td>40</td>\n",
       "      <td>4.8</td>\n",
       "      <td>Charlie Lee</td>\n",
       "      <td>42</td>\n",
       "      <td>...</td>\n",
       "      <td>15</td>\n",
       "      <td>1003</td>\n",
       "      <td>U003</td>\n",
       "      <td>2024-12-02</td>\n",
       "      <td>dinner</td>\n",
       "      <td>grilled chicken</td>\n",
       "      <td>Canceled</td>\n",
       "      <td>12.5</td>\n",
       "      <td>Night</td>\n",
       "      <td>4.285714</td>\n",
       "    </tr>\n",
       "    <tr>\n",
       "      <th>3</th>\n",
       "      <td>S004</td>\n",
       "      <td>U001</td>\n",
       "      <td>pancakes</td>\n",
       "      <td>Breakfast</td>\n",
       "      <td>2024-12-02 07:30:00</td>\n",
       "      <td>2024-12-02 08:00:00</td>\n",
       "      <td>30</td>\n",
       "      <td>4.2</td>\n",
       "      <td>Alice Johnson</td>\n",
       "      <td>28</td>\n",
       "      <td>...</td>\n",
       "      <td>12</td>\n",
       "      <td>1004</td>\n",
       "      <td>U001</td>\n",
       "      <td>2024-12-02</td>\n",
       "      <td>breakfast</td>\n",
       "      <td>pancakes</td>\n",
       "      <td>Completed</td>\n",
       "      <td>8.0</td>\n",
       "      <td>Morning</td>\n",
       "      <td>4.000000</td>\n",
       "    </tr>\n",
       "    <tr>\n",
       "      <th>4</th>\n",
       "      <td>S005</td>\n",
       "      <td>U004</td>\n",
       "      <td>caesar salad</td>\n",
       "      <td>Lunch</td>\n",
       "      <td>2024-12-03 13:00:00</td>\n",
       "      <td>2024-12-03 13:15:00</td>\n",
       "      <td>15</td>\n",
       "      <td>4.7</td>\n",
       "      <td>David Brown</td>\n",
       "      <td>27</td>\n",
       "      <td>...</td>\n",
       "      <td>10</td>\n",
       "      <td>1005</td>\n",
       "      <td>U004</td>\n",
       "      <td>2024-12-03</td>\n",
       "      <td>lunch</td>\n",
       "      <td>caesar salad</td>\n",
       "      <td>Completed</td>\n",
       "      <td>9.0</td>\n",
       "      <td>Day</td>\n",
       "      <td>4.000000</td>\n",
       "    </tr>\n",
       "  </tbody>\n",
       "</table>\n",
       "<p>5 rows × 25 columns</p>\n",
       "</div>"
      ],
      "text/plain": [
       "  Session ID User ID_x      Dish Name_x Meal Type_x       Session Start  \\\n",
       "0       S001      U001        spaghetti      Dinner 2024-12-01 19:00:00   \n",
       "1       S002      U002     caesar salad       Lunch 2024-12-01 12:00:00   \n",
       "2       S003      U003  grilled chicken      Dinner 2024-12-02 19:30:00   \n",
       "3       S004      U001         pancakes   Breakfast 2024-12-02 07:30:00   \n",
       "4       S005      U004     caesar salad       Lunch 2024-12-03 13:00:00   \n",
       "\n",
       "          Session End  Duration (mins)  Session Rating      User Name  Age  \\\n",
       "0 2024-12-01 19:30:00               30             4.5  Alice Johnson   28   \n",
       "1 2024-12-01 12:20:00               20             4.0      Bob Smith   35   \n",
       "2 2024-12-02 20:10:00               40             4.8    Charlie Lee   42   \n",
       "3 2024-12-02 08:00:00               30             4.2  Alice Johnson   28   \n",
       "4 2024-12-03 13:15:00               15             4.7    David Brown   27   \n",
       "\n",
       "   ... Total Orders Order ID User ID_y Order Date Meal Type_y  \\\n",
       "0  ...           12     1001      U001 2024-12-01      dinner   \n",
       "1  ...            8     1002      U002 2024-12-01       lunch   \n",
       "2  ...           15     1003      U003 2024-12-02      dinner   \n",
       "3  ...           12     1004      U001 2024-12-02   breakfast   \n",
       "4  ...           10     1005      U004 2024-12-03       lunch   \n",
       "\n",
       "       Dish Name_y  Order Status Amount (USD) Time of Day    Rating  \n",
       "0        spaghetti     Completed         15.0       Night  5.000000  \n",
       "1     caesar salad     Completed         10.0         Day  4.000000  \n",
       "2  grilled chicken      Canceled         12.5       Night  4.285714  \n",
       "3         pancakes     Completed          8.0     Morning  4.000000  \n",
       "4     caesar salad     Completed          9.0         Day  4.000000  \n",
       "\n",
       "[5 rows x 25 columns]"
      ]
     },
     "execution_count": 25,
     "metadata": {},
     "output_type": "execute_result"
    }
   ],
   "source": [
    "# Merge the result with OrderDetails on 'Session ID'\n",
    "final_data = pd.merge(merged_data_1, order_details, on='Session ID', how='inner')\n",
    "final_data.head(5)"
   ]
  },
  {
   "cell_type": "code",
   "execution_count": 26,
   "id": "5e7e86c8-90fe-44a0-8b0b-a90c79af2127",
   "metadata": {},
   "outputs": [],
   "source": [
    "# Save the cleaned and merged dataset to a new file\n",
    "final_data.to_csv('cleaned_merged_data.csv', index=False)"
   ]
  },
  {
   "cell_type": "code",
   "execution_count": 27,
   "id": "2fcd2702-3c6d-414c-b697-34bda0f7d9a6",
   "metadata": {},
   "outputs": [
    {
     "name": "stdout",
     "output_type": "stream",
     "text": [
      "  Session ID User ID_x      Dish Name_x Meal Type_x       Session Start  \\\n",
      "0       S001      U001        spaghetti      Dinner 2024-12-01 19:00:00   \n",
      "1       S002      U002     caesar salad       Lunch 2024-12-01 12:00:00   \n",
      "2       S003      U003  grilled chicken      Dinner 2024-12-02 19:30:00   \n",
      "3       S004      U001         pancakes   Breakfast 2024-12-02 07:30:00   \n",
      "4       S005      U004     caesar salad       Lunch 2024-12-03 13:00:00   \n",
      "\n",
      "          Session End  Duration (mins)  Session Rating      User Name  Age  \\\n",
      "0 2024-12-01 19:30:00               30             4.5  Alice Johnson   28   \n",
      "1 2024-12-01 12:20:00               20             4.0      Bob Smith   35   \n",
      "2 2024-12-02 20:10:00               40             4.8    Charlie Lee   42   \n",
      "3 2024-12-02 08:00:00               30             4.2  Alice Johnson   28   \n",
      "4 2024-12-03 13:15:00               15             4.7    David Brown   27   \n",
      "\n",
      "   ... Total Orders Order ID User ID_y Order Date Meal Type_y  \\\n",
      "0  ...           12     1001      U001 2024-12-01      dinner   \n",
      "1  ...            8     1002      U002 2024-12-01       lunch   \n",
      "2  ...           15     1003      U003 2024-12-02      dinner   \n",
      "3  ...           12     1004      U001 2024-12-02   breakfast   \n",
      "4  ...           10     1005      U004 2024-12-03       lunch   \n",
      "\n",
      "       Dish Name_y  Order Status Amount (USD) Time of Day    Rating  \n",
      "0        spaghetti     Completed         15.0       Night  5.000000  \n",
      "1     caesar salad     Completed         10.0         Day  4.000000  \n",
      "2  grilled chicken      Canceled         12.5       Night  4.285714  \n",
      "3         pancakes     Completed          8.0     Morning  4.000000  \n",
      "4     caesar salad     Completed          9.0         Day  4.000000  \n",
      "\n",
      "[5 rows x 25 columns]\n"
     ]
    }
   ],
   "source": [
    "# Verify the final dataset\n",
    "print(final_data.head())"
   ]
  },
  {
   "cell_type": "code",
   "execution_count": 28,
   "id": "f93bedca-c87c-4e35-8e2a-df33eca16d1c",
   "metadata": {},
   "outputs": [],
   "source": [
    "import matplotlib.pyplot as plt\n",
    "import seaborn as sns"
   ]
  },
  {
   "cell_type": "code",
   "execution_count": 30,
   "id": "858204ca-af12-4f51-a643-03b39a9f86cb",
   "metadata": {},
   "outputs": [
    {
     "data": {
      "text/plain": [
       "Dish Name_x\n",
       "spaghetti          4\n",
       "grilled chicken    4\n",
       "caesar salad       3\n",
       "pancakes           2\n",
       "veggie burger      2\n",
       "oatmeal            1\n",
       "Name: count, dtype: int64"
      ]
     },
     "execution_count": 30,
     "metadata": {},
     "output_type": "execute_result"
    }
   ],
   "source": [
    "# Analysis: Top 10 most-ordered dishes\n",
    "top_dishes = final_data['Dish Name_x'].value_counts().head(10)\n",
    "top_dishes"
   ]
  },
  {
   "cell_type": "code",
   "execution_count": 31,
   "id": "1e29b579-0711-45b5-8faf-0d40397b3e54",
   "metadata": {},
   "outputs": [
    {
     "data": {
      "image/png": "[encoded data removed]",
      "text/plain": [
       "<Figure size 1000x600 with 1 Axes>"
      ]
     },
     "metadata": {},
     "output_type": "display_data"
    }
   ],
   "source": [
    "# Visualization: Bar Chart for Top Dishes\n",
    "plt.figure(figsize=(10, 6))\n",
    "top_dishes.plot(kind='bar', color='skyblue')\n",
    "plt.title('Top 10 Most Ordered Dishes')\n",
    "plt.xlabel('Dish Name')\n",
    "plt.ylabel('Order Count')\n",
    "plt.xticks(rotation=45)\n",
    "plt.show()"
   ]
  },
  {
   "cell_type": "markdown",
   "id": "0a1b37cb-6a36-4daf-81d6-b40ddf7dd286",
   "metadata": {},
   "source": [
    "### Spaghetti and Grilled Chicken are the most popular dishes, both with the highest order count.\n",
    "### Dishes like Caesar Salad, Pancakes, and Veggie Burger follow, with moderate order counts.\n",
    "### Oatmeal has the least number of orders, suggesting it might be less popular among users."
   ]
  },
  {
   "cell_type": "code",
   "execution_count": 33,
   "id": "0c857d01-6d9b-47d8-9060-c569c644ff9a",
   "metadata": {},
   "outputs": [
    {
     "data": {
      "text/html": [
       "<div>\n",
       "<style scoped>\n",
       "    .dataframe tbody tr th:only-of-type {\n",
       "        vertical-align: middle;\n",
       "    }\n",
       "\n",
       "    .dataframe tbody tr th {\n",
       "        vertical-align: top;\n",
       "    }\n",
       "\n",
       "    .dataframe thead th {\n",
       "        text-align: right;\n",
       "    }\n",
       "</style>\n",
       "<table border=\"1\" class=\"dataframe\">\n",
       "  <thead>\n",
       "    <tr style=\"text-align: right;\">\n",
       "      <th></th>\n",
       "      <th>Session Rating</th>\n",
       "      <th>Amount (USD)</th>\n",
       "    </tr>\n",
       "  </thead>\n",
       "  <tbody>\n",
       "    <tr>\n",
       "      <th>Session Rating</th>\n",
       "      <td>1.000000</td>\n",
       "      <td>0.502733</td>\n",
       "    </tr>\n",
       "    <tr>\n",
       "      <th>Amount (USD)</th>\n",
       "      <td>0.502733</td>\n",
       "      <td>1.000000</td>\n",
       "    </tr>\n",
       "  </tbody>\n",
       "</table>\n",
       "</div>"
      ],
      "text/plain": [
       "                Session Rating  Amount (USD)\n",
       "Session Rating        1.000000      0.502733\n",
       "Amount (USD)          0.502733      1.000000"
      ]
     },
     "execution_count": 33,
     "metadata": {},
     "output_type": "execute_result"
    }
   ],
   "source": [
    "# Analysis: Correlation between Session Rating and Order Amount\n",
    "correlation_data = final_data[['Session Rating', 'Amount (USD)']].corr()\n",
    "correlation_data"
   ]
  },
  {
   "cell_type": "code",
   "execution_count": 34,
   "id": "202a88ae-fed0-4a87-bcd6-e41831eb0ee2",
   "metadata": {},
   "outputs": [
    {
     "data": {
      "image/png": "[encoded data removed]",
      "text/plain": [
       "<Figure size 800x600 with 2 Axes>"
      ]
     },
     "metadata": {},
     "output_type": "display_data"
    }
   ],
   "source": [
    "# Visualization: Heatmap\n",
    "plt.figure(figsize=(8, 6))\n",
    "sns.heatmap(correlation_data, annot=True, cmap='coolwarm', fmt='.2f')\n",
    "plt.title('Correlation Between Session Rating and Order Amount')\n",
    "plt.show()"
   ]
  },
  {
   "cell_type": "code",
   "execution_count": 36,
   "id": "93f299c6-3d84-48a2-b420-77633dc3d89e",
   "metadata": {},
   "outputs": [
    {
     "name": "stdout",
     "output_type": "stream",
     "text": [
      "count    16.000000\n",
      "mean     32.687500\n",
      "std       5.839164\n",
      "min      25.000000\n",
      "25%      28.000000\n",
      "50%      30.500000\n",
      "75%      35.750000\n",
      "max      42.000000\n",
      "Name: Age, dtype: float64\n"
     ]
    }
   ],
   "source": [
    "age_distribution = final_data['Age'].describe()\n",
    "print(age_distribution)"
   ]
  },
  {
   "cell_type": "code",
   "execution_count": 35,
   "id": "a4d4c38f-b5de-436f-8f73-4280884d41b8",
   "metadata": {},
   "outputs": [
    {
     "data": {
      "image/png": "[encoded data removed]",
      "text/plain": [
       "<Figure size 1000x600 with 1 Axes>"
      ]
     },
     "metadata": {},
     "output_type": "display_data"
    }
   ],
   "source": [
    "# Analysis: Age Distribution\n",
    "plt.figure(figsize=(10, 6))\n",
    "sns.histplot(final_data['Age'], bins=15, kde=True, color='purple')\n",
    "plt.title('Age Distribution of Users')\n",
    "plt.xlabel('Age')\n",
    "plt.ylabel('Frequency')\n",
    "plt.show()"
   ]
  },
  {
   "cell_type": "markdown",
   "id": "ec27b636-0e03-4757-ad45-c7b8dc6c2d39",
   "metadata": {},
   "source": [
    "### Summary of Results: The analysis revealed that most users are concentrated between the ages of 25 and 42, with a relatively even distribution across this range. \n",
    "### The average age is about 32.7 years."
   ]
  },
  {
   "cell_type": "code",
   "execution_count": null,
   "id": "9be2f1de-f02e-4230-b82e-6b9ee3673bf7",
   "metadata": {},
   "outputs": [],
   "source": []
  }
 ],
 "metadata": {
  "kernelspec": {
   "display_name": "Python 3 (ipykernel)",
   "language": "python",
   "name": "python3"
  },
  "language_info": {
   "codemirror_mode": {
    "name": "ipython",
    "version": 3
   },
   "file_extension": ".py",
   "mimetype": "text/x-python",
   "name": "python",
   "nbconvert_exporter": "python",
   "pygments_lexer": "ipython3",
   "version": "3.12.7"
  }
 },
 "nbformat": 4,
 "nbformat_minor": 5
}
